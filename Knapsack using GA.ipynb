{
 "cells": [
  {
   "cell_type": "code",
   "execution_count": 1,
   "id": "eb3497f6",
   "metadata": {},
   "outputs": [],
   "source": [
    "import random\n",
    "import matplotlib.pyplot as plt"
   ]
  },
  {
   "cell_type": "code",
   "execution_count": 2,
   "id": "dfc0c5eb",
   "metadata": {},
   "outputs": [],
   "source": [
    "def generate_possible_solution(total_number_of_objects):\n",
    "    possible_solution = []\n",
    "    for i in range(0, total_number_of_objects):\n",
    "        randomNumber = random.randint(0, 1)\n",
    "        possible_solution.append(randomNumber)\n",
    "    return possible_solution"
   ]
  },
  {
   "cell_type": "code",
   "execution_count": 3,
   "id": "57e00a3b",
   "metadata": {},
   "outputs": [],
   "source": [
    "def print_pop(pop):\n",
    "    for i in range(len(pop)):\n",
    "        print(\"individual \",i+1,\":\",pop[i])\n",
    "    return \"\"    \n",
    "        "
   ]
  },
  {
   "cell_type": "code",
   "execution_count": 4,
   "id": "15424d7e",
   "metadata": {},
   "outputs": [],
   "source": [
    "def calculate_total_value_for_possible_solution(profit_list, items_picked_list, total_number_of_objects):\n",
    "    total_value = 0\n",
    "    for i in range(0, total_number_of_objects):\n",
    "        if items_picked_list[i] == 1:\n",
    "            total_value = total_value + profit_list[i]\n",
    "    return total_value"
   ]
  },
  {
   "cell_type": "code",
   "execution_count": 5,
   "id": "82ebbb7c",
   "metadata": {},
   "outputs": [],
   "source": [
    "def solution_already_present_in_population(population, possible_solution):\n",
    "    for i in range(0, len(population)):\n",
    "        curr_solution = population[i]\n",
    "        areIdentical = True\n",
    "        for j in range(0, len(curr_solution)):\n",
    "            if(possible_solution[j] != curr_solution[j]):\n",
    "                areIdentical = False\n",
    "        if areIdentical == True:\n",
    "            return True\n",
    "    return False            \n",
    "        "
   ]
  },
  {
   "cell_type": "code",
   "execution_count": 6,
   "id": "45b243e5",
   "metadata": {},
   "outputs": [],
   "source": [
    "def can_knapsack_carry_selected_items(items_picked_list, weight_list, max_capacity_knapsack, total_number_of_objects):\n",
    "    cumulative_weight_selected_items = 0\n",
    "    \n",
    "    for i in range(0, total_number_of_objects):\n",
    "        if items_picked_list[i] == 1:\n",
    "            cumulative_weight_selected_items += weight_list[i]    \n",
    "    \n",
    "    if cumulative_weight_selected_items > max_capacity_knapsack:\n",
    "            return False    \n",
    "    return True"
   ]
  },
  {
   "cell_type": "code",
   "execution_count": 7,
   "id": "1f19e007",
   "metadata": {},
   "outputs": [],
   "source": [
    "def initial_population(population_size, weight_list, profit_list, max_capacity_knapsack):\n",
    "    pop = []\n",
    "    itera = 0\n",
    "    number_of_objects = len(weight_list)\n",
    "    while itera < population_size:\n",
    "        new_possible_solution = generate_possible_solution(number_of_objects)\n",
    "        if can_knapsack_carry_selected_items(new_possible_solution, weight_list, max_capacity_knapsack, number_of_objects):\n",
    "            alreadyPresent = solution_already_present_in_population(pop, new_possible_solution)\n",
    "            if not alreadyPresent:\n",
    "                pop.append(new_possible_solution)\n",
    "                itera += 1\n",
    "    return pop"
   ]
  },
  {
   "cell_type": "code",
   "execution_count": 8,
   "id": "66fad4fa",
   "metadata": {},
   "outputs": [],
   "source": [
    "def highest_value_solution_in_population(population, profit_list):\n",
    "    highest_value = 0\n",
    "    highest_index = -1\n",
    "    for i in range(0, len(population)):\n",
    "        value_for_curr_soln = calculate_total_value_for_possible_solution(profit_list, population[i], len(population[i]))\n",
    "        if value_for_curr_soln > highest_value:\n",
    "            highest_value = value_for_curr_soln\n",
    "            highest_index = i\n",
    "    return highest_index, highest_value"
   ]
  },
  {
   "cell_type": "code",
   "execution_count": 9,
   "id": "f10c8c92",
   "metadata": {},
   "outputs": [],
   "source": [
    "def tournament_selection(population, profit_list):\n",
    "    randomly_selected_1 = random.randint(0, len(population) - 1)\n",
    "    randomly_selected_2 = random.randint(0, len(population) - 1)\n",
    "    total_number_of_objects = len(population[randomly_selected_1])\n",
    "    if calculate_total_value_for_possible_solution(profit_list, population[randomly_selected_1], total_number_of_objects) > calculate_total_value_for_possible_solution(profit_list, population[randomly_selected_2], total_number_of_objects):\n",
    "        winner = population[randomly_selected_1]\n",
    "    else:\n",
    "        winner = population[randomly_selected_2]\n",
    "\n",
    "    return winner"
   ]
  },
  {
   "cell_type": "code",
   "execution_count": 10,
   "id": "ce0c29cc",
   "metadata": {},
   "outputs": [],
   "source": [
    "# one point crossover operation\n",
    "def crossover_operator(parent_1, parent_2, weight_list, max_capacity_knapsack):\n",
    "    crossover_point = random.randint(0, len(parent_1))\n",
    "    \n",
    "    left_part_from_parent1 = parent_1[:crossover_point]\n",
    "    right_part_from_parent2 = parent_2[crossover_point:]\n",
    "    \n",
    "    \n",
    "    child_from_crossover = left_part_from_parent1 + right_part_from_parent2\n",
    "    \n",
    "    if can_knapsack_carry_selected_items(child_from_crossover, weight_list, max_capacity_knapsack, len(parent_1)):\n",
    "        return child_from_crossover\n",
    "    else:\n",
    "        return crossover_operator(parent_1, parent_2, weight_list, max_capacity_knapsack)"
   ]
  },
  {
   "cell_type": "code",
   "execution_count": 11,
   "id": "38e4edeb",
   "metadata": {},
   "outputs": [],
   "source": [
    "# one point mutation operation\n",
    "def mutation_operator(child, weight_list, max_capacity_knapsack):\n",
    "    child_after_mutation = child\n",
    "    \n",
    "    first_mutation_index, second_mutation_index = random.sample(range(0, len(child)), 2)\n",
    "    \n",
    "    child_after_mutation[first_mutation_index], child_after_mutation[second_mutation_index] = child_after_mutation[second_mutation_index], child_after_mutation[first_mutation_index]\n",
    "\n",
    "    if can_knapsack_carry_selected_items(child_after_mutation, weight_list, max_capacity_knapsack, len(child_after_mutation)):\n",
    "        return child_after_mutation\n",
    "    else:\n",
    "        return mutation_operator(child, weight_list, max_capacity_knapsack)"
   ]
  },
  {
   "cell_type": "code",
   "execution_count": 12,
   "id": "caa596cd",
   "metadata": {},
   "outputs": [],
   "source": [
    "def producing_new_generation(curr_pop, mutation_rate, profit_list, weight_list, max_capacity_knapsack):\n",
    "    new_generation = []\n",
    "    for i in range(0, len(curr_pop)):\n",
    "        parent_1 = tournament_selection(curr_pop, profit_list)\n",
    "        parent_2 = tournament_selection(curr_pop, profit_list)\n",
    "        child = crossover_operator(parent_1, parent_2, weight_list, max_capacity_knapsack)\n",
    "\n",
    "        if random.random() < mutation_rate:\n",
    "            child = mutation_operator(child, weight_list, max_capacity_knapsack)\n",
    "\n",
    "        new_generation.append(child)\n",
    "    return new_generation"
   ]
  },
  {
   "cell_type": "code",
   "execution_count": 13,
   "id": "ad1c65f5",
   "metadata": {},
   "outputs": [],
   "source": [
    "def genetic_algorithm(max_capacity_knapsack, size_of_population, mutation_rate, weight_list, profit_list):\n",
    "    best_solution_in_each_gen_list = []\n",
    "    \n",
    "    pop = initial_population(size_of_population,weight_list, profit_list, max_capacity_knapsack)\n",
    "    print(\"initial population:\")\n",
    "    print(print_pop(pop))\n",
    "    \n",
    "    for i in range(0, 150):\n",
    "        pop = producing_new_generation(pop, mutation_rate, profit_list, weight_list, max_capacity_knapsack)\n",
    "        \n",
    "        best_solution_idx, best_solution_value = highest_value_solution_in_population(pop, profit_list)\n",
    "        \n",
    "        best_solution_in_each_gen_list.append(best_solution_value)\n",
    "    print(\"final population after final generation:\")\n",
    "    print(print_pop(pop))\n",
    "    fitnessListOfFinalPopulation = []\n",
    "    for individual in pop:\n",
    "        fitnessListOfFinalPopulation.append(calculate_total_value_for_possible_solution(profit_list, individual, len(individual)))\n",
    "    print(\"value list for final population:\", fitnessListOfFinalPopulation)        \n",
    "    \n",
    "    return pop[best_solution_idx], best_solution_in_each_gen_list"
   ]
  },
  {
   "cell_type": "code",
   "execution_count": 14,
   "id": "29709fad",
   "metadata": {},
   "outputs": [
    {
     "name": "stdout",
     "output_type": "stream",
     "text": [
      "weight list: [3, 13, 10, 9, 7, 1, 8, 8, 2, 9]\n",
      "value list: [266, 442, 671, 526, 388, 245, 210, 145, 126, 322]\n",
      "max capacity of knapsack 35\n",
      "initial population:\n",
      "individual  1 : [0, 0, 0, 0, 1, 1, 1, 0, 1, 0]\n",
      "individual  2 : [0, 0, 0, 0, 0, 0, 0, 1, 0, 0]\n",
      "individual  3 : [0, 0, 0, 0, 0, 0, 0, 0, 0, 0]\n",
      "individual  4 : [0, 0, 1, 0, 1, 0, 1, 1, 1, 0]\n",
      "individual  5 : [0, 0, 1, 0, 0, 0, 0, 1, 0, 0]\n",
      "individual  6 : [1, 1, 0, 0, 0, 1, 1, 0, 0, 1]\n",
      "individual  7 : [0, 1, 0, 0, 0, 0, 1, 0, 1, 1]\n",
      "individual  8 : [1, 1, 0, 1, 1, 1, 0, 0, 1, 0]\n",
      "individual  9 : [1, 0, 0, 0, 1, 1, 0, 0, 1, 1]\n",
      "individual  10 : [1, 1, 0, 0, 1, 0, 1, 0, 0, 0]\n",
      "\n",
      "final population after final generation:\n",
      "individual  1 : [1, 0, 1, 0, 1, 1, 1, 0, 1, 0]\n",
      "individual  2 : [1, 0, 1, 1, 1, 1, 0, 0, 1, 0]\n",
      "individual  3 : [1, 0, 1, 1, 1, 1, 0, 0, 1, 0]\n",
      "individual  4 : [1, 0, 1, 1, 1, 1, 0, 0, 1, 0]\n",
      "individual  5 : [1, 0, 1, 1, 1, 1, 0, 0, 1, 0]\n",
      "individual  6 : [1, 0, 1, 1, 1, 1, 0, 0, 1, 0]\n",
      "individual  7 : [1, 0, 1, 1, 1, 1, 0, 0, 1, 0]\n",
      "individual  8 : [1, 0, 1, 1, 1, 1, 0, 0, 1, 0]\n",
      "individual  9 : [1, 0, 1, 1, 1, 1, 0, 0, 1, 0]\n",
      "individual  10 : [1, 0, 1, 1, 1, 1, 0, 0, 1, 0]\n",
      "\n",
      "value list for final population: [1906, 2222, 2222, 2222, 2222, 2222, 2222, 2222, 2222, 2222]\n",
      "items to be picked [1, 0, 1, 1, 1, 1, 0, 0, 1, 0]\n",
      "best solution value after last generation: 2222\n"
     ]
    },
    {
     "data": {
      "image/png": "[encoded data removed]",
      "text/plain": [
       "<Figure size 640x480 with 1 Axes>"
      ]
     },
     "metadata": {},
     "output_type": "display_data"
    }
   ],
   "source": [
    "# latest population after genetic algorithm run\n",
    "max_capacity_knapsack = 35\n",
    "size_of_population = 10 \n",
    "mutation_rate = 0.1\n",
    "weight_list = [3, 13, 10,9,7,1,8,8,2,9]\n",
    "profit_list = [266, 442, 671, 526, 388, 245, 210,145,126,322]\n",
    "print(\"weight list:\", weight_list)\n",
    "print(\"value list:\", profit_list)\n",
    "print(\"max capacity of knapsack\", max_capacity_knapsack)\n",
    "\n",
    "\n",
    "items_to_be_picked, best_solution_in_each_gen_list = genetic_algorithm(max_capacity_knapsack,\n",
    "                                       size_of_population,\n",
    "                                       mutation_rate,\n",
    "                                       weight_list,\n",
    "                                       profit_list)\n",
    "\n",
    "print(\"items to be picked\", items_to_be_picked)\n",
    "print(\"best solution value after last generation:\", best_solution_in_each_gen_list[len(best_solution_in_each_gen_list) - 1])\n",
    "# Plot a graph to show the progress\n",
    "plt.plot(best_solution_in_each_gen_list)\n",
    "plt.xlabel('generations')\n",
    "plt.ylabel('best solution value ')\n",
    "plt.title(\"Values of the best solutions during the generations\")\n",
    "plt.show()"
   ]
  },
  {
   "cell_type": "code",
   "execution_count": null,
   "id": "e9fe32e9",
   "metadata": {},
   "outputs": [],
   "source": []
  }
 ],
 "metadata": {
  "kernelspec": {
   "display_name": "Python 3 (ipykernel)",
   "language": "python",
   "name": "python3"
  },
  "language_info": {
   "codemirror_mode": {
    "name": "ipython",
    "version": 3
   },
   "file_extension": ".py",
   "mimetype": "text/x-python",
   "name": "python",
   "nbconvert_exporter": "python",
   "pygments_lexer": "ipython3",
   "version": "3.9.6"
  }
 },
 "nbformat": 4,
 "nbformat_minor": 5
}
